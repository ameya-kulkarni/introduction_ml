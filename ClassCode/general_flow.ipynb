{
 "cells": [
  {
   "cell_type": "code",
   "execution_count": 1,
   "metadata": {},
   "outputs": [],
   "source": [
    "from utils import FashionData, Net"
   ]
  },
  {
   "cell_type": "code",
   "execution_count": 2,
   "metadata": {},
   "outputs": [],
   "source": [
    "d=FashionData(\"/Users/gunnvantsaini/Data/Work/ML Course/Module 5 Neural Networks/Data\")"
   ]
  },
  {
   "cell_type": "code",
   "execution_count": 4,
   "metadata": {},
   "outputs": [],
   "source": [
    "import torch\n",
    "from torch.utils.data import DataLoader,Dataset\n",
    "from torch import nn"
   ]
  },
  {
   "cell_type": "code",
   "execution_count": 5,
   "metadata": {},
   "outputs": [],
   "source": [
    "D=D=DataLoader(d,batch_size=32)"
   ]
  },
  {
   "cell_type": "code",
   "execution_count": 6,
   "metadata": {},
   "outputs": [],
   "source": [
    "import torch.optim as optim"
   ]
  },
  {
   "cell_type": "code",
   "execution_count": 7,
   "metadata": {},
   "outputs": [],
   "source": [
    "mod=Net()"
   ]
  },
  {
   "cell_type": "code",
   "execution_count": 8,
   "metadata": {},
   "outputs": [
    {
     "name": "stdout",
     "output_type": "stream",
     "text": [
      "Iter: 0, Loss: 2.2810237407684326, Acc: 0.1875\n",
      "Iter: 1, Loss: 2.2735111713409424, Acc: 0.3125\n",
      "Iter: 2, Loss: 2.256686210632324, Acc: 0.3125\n",
      "Iter: 3, Loss: 2.218384027481079, Acc: 0.3125\n",
      "Iter: 4, Loss: 2.17010235786438, Acc: 0.3125\n",
      "Iter: 5, Loss: 2.1332104206085205, Acc: 0.40625\n",
      "Iter: 6, Loss: 2.1008782386779785, Acc: 0.40625\n",
      "Iter: 7, Loss: 2.067500591278076, Acc: 0.40625\n",
      "Iter: 8, Loss: 2.047891139984131, Acc: 0.40625\n",
      "Iter: 9, Loss: 2.0211684703826904, Acc: 0.5\n"
     ]
    }
   ],
   "source": [
    "mod=Net()\n",
    "opt=optim.SGD(mod.parameters(),lr=0.01)\n",
    "criteria=nn.CrossEntropyLoss()\n",
    "for i in range(10):\n",
    "    for batch in D:\n",
    "        x=batch['X'].float()\n",
    "        y=batch['y']\n",
    "        p=mod(x)\n",
    "        acc=(p.argmax(axis=1)==y).float().mean().item()\n",
    "        loss=criteria(p,y)\n",
    "        loss.backward()\n",
    "        opt.step()\n",
    "        opt.zero_grad()\n",
    "    print(f\"Iter: {i}, Loss: {loss.item()}, Acc: {acc}\")"
   ]
  },
  {
   "cell_type": "code",
   "execution_count": null,
   "metadata": {},
   "outputs": [],
   "source": []
  }
 ],
 "metadata": {
  "kernelspec": {
   "display_name": "Python 3",
   "language": "python",
   "name": "python3"
  },
  "language_info": {
   "codemirror_mode": {
    "name": "ipython",
    "version": 3
   },
   "file_extension": ".py",
   "mimetype": "text/x-python",
   "name": "python",
   "nbconvert_exporter": "python",
   "pygments_lexer": "ipython3",
   "version": "3.7.6"
  }
 },
 "nbformat": 4,
 "nbformat_minor": 4
}
