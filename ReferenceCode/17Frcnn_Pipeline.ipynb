{
 "cells": [
  {
   "cell_type": "code",
   "execution_count": 1,
   "metadata": {},
   "outputs": [],
   "source": [
    "import torch\n",
    "from torch.utils.data import DataLoader,Dataset\n",
    "from torchvision import models\n",
    "import PIL\n",
    "from torchvision import transforms"
   ]
  },
  {
   "cell_type": "code",
   "execution_count": 2,
   "metadata": {},
   "outputs": [],
   "source": [
    "import os"
   ]
  },
  {
   "cell_type": "code",
   "execution_count": 3,
   "metadata": {},
   "outputs": [],
   "source": [
    "path_imgs=\"/Users/gunnvantsaini/OneDrive/project_codes/content/dl_basics/sony/data/guns-object-detection/Images\"\n",
    "img_names=os.listdir(path_imgs)"
   ]
  },
  {
   "cell_type": "code",
   "execution_count": 4,
   "metadata": {},
   "outputs": [],
   "source": [
    "img_names.sort(key=lambda x:int(x.split(\".\")[0]))"
   ]
  },
  {
   "cell_type": "code",
   "execution_count": 5,
   "metadata": {},
   "outputs": [
    {
     "data": {
      "text/plain": [
       "['1.jpeg', '2.jpeg', '3.jpeg', '4.jpeg']"
      ]
     },
     "execution_count": 5,
     "metadata": {},
     "output_type": "execute_result"
    }
   ],
   "source": [
    "img_names[0:4]"
   ]
  },
  {
   "cell_type": "code",
   "execution_count": 6,
   "metadata": {},
   "outputs": [],
   "source": [
    "path_labels=\"/Users/gunnvantsaini/OneDrive/project_codes/content/dl_basics/sony/data/guns-object-detection/Labels\"\n",
    "label_names=os.listdir(path_labels)"
   ]
  },
  {
   "cell_type": "code",
   "execution_count": 7,
   "metadata": {},
   "outputs": [],
   "source": [
    "label_names.sort(key=lambda x: int(x.split(\".\")[0]))"
   ]
  },
  {
   "cell_type": "code",
   "execution_count": 8,
   "metadata": {},
   "outputs": [
    {
     "data": {
      "text/plain": [
       "['1.txt', '2.txt', '3.txt', '4.txt']"
      ]
     },
     "execution_count": 8,
     "metadata": {},
     "output_type": "execute_result"
    }
   ],
   "source": [
    "label_names[0:4]"
   ]
  },
  {
   "cell_type": "code",
   "execution_count": 9,
   "metadata": {},
   "outputs": [],
   "source": [
    "base_path=\"/Users/gunnvantsaini/OneDrive/project_codes/content/dl_basics/sony/data/guns-object-detection\""
   ]
  },
  {
   "cell_type": "code",
   "execution_count": 10,
   "metadata": {},
   "outputs": [],
   "source": [
    "pipeline=transforms.Compose([transforms.ToTensor()])"
   ]
  },
  {
   "cell_type": "code",
   "execution_count": 11,
   "metadata": {},
   "outputs": [],
   "source": [
    "## https://pytorch.org/tutorials/intermediate/torchvision_tutorial.html\n",
    "class GunsData(Dataset):\n",
    "    def __init__(self,img_names,label_names,base_path,img_folder,label_folder):\n",
    "        self.img_names=img_names\n",
    "        self.label_names=label_names\n",
    "        self.base_path=base_path\n",
    "        self.img_folder=img_folder\n",
    "        self.label_folder=label_folder\n",
    "    def __len__(self):\n",
    "        return len(self.img_names)\n",
    "    def __getitem__(self,idx):\n",
    "        img =PIL.Image.open(os.path.join(self.base_path,self.img_folder,self.img_names[idx])).convert(\"RGB\")\n",
    "        img=pipeline(img)\n",
    "        img_id=self.img_names[idx].split(\".\")[0]\n",
    "        img_id=torch.tensor(int(img_id),dtype=torch.int64)\n",
    "        con=open(os.path.join(self.base_path,self.label_folder,self.label_names[idx]))\n",
    "        label_data=con.readlines()\n",
    "        con.close()\n",
    "        boxes=[]\n",
    "        for bbox in label_data[1:]:\n",
    "            x0=float(bbox.split(\" \")[0])\n",
    "            y0=float(bbox.split(\" \")[1])\n",
    "            x1=float(bbox.split(\" \")[2])\n",
    "            y1=float(bbox.split(\" \")[3])\n",
    "            boxes.append([x0,y0,x1,y1])\n",
    "        boxes=torch.tensor(boxes)\n",
    "        area = (boxes[:, 3] - boxes[:, 1]) * (boxes[:, 2] - boxes[:, 0])\n",
    "        area=torch.tensor(area).float()\n",
    "        target={}\n",
    "        target['boxes']=boxes\n",
    "        target['labels']=torch.tensor([1]*boxes.shape[0],dtype=torch.int64)\n",
    "        target['area']=area\n",
    "        target['image_id']=img_id\n",
    "        target['iscrowd']=torch.tensor([0]*boxes.shape[0],dtype=torch.int8)\n",
    "        return img,target"
   ]
  },
  {
   "cell_type": "code",
   "execution_count": 12,
   "metadata": {},
   "outputs": [],
   "source": [
    "guns=GunsData(img_names,label_names,base_path,\"Images\",\"Labels\")"
   ]
  },
  {
   "cell_type": "code",
   "execution_count": 13,
   "metadata": {},
   "outputs": [
    {
     "name": "stderr",
     "output_type": "stream",
     "text": [
      "/Users/gunnvantsaini/miniconda3/envs/tensorflow/lib/python3.7/site-packages/ipykernel_launcher.py:28: UserWarning: To copy construct from a tensor, it is recommended to use sourceTensor.clone().detach() or sourceTensor.clone().detach().requires_grad_(True), rather than torch.tensor(sourceTensor).\n"
     ]
    }
   ],
   "source": [
    "im,lab=next(iter(guns))"
   ]
  },
  {
   "cell_type": "code",
   "execution_count": 15,
   "metadata": {},
   "outputs": [
    {
     "data": {
      "text/plain": [
       "torch.Size([3, 145, 347])"
      ]
     },
     "execution_count": 15,
     "metadata": {},
     "output_type": "execute_result"
    }
   ],
   "source": [
    "im.shape"
   ]
  },
  {
   "cell_type": "code",
   "execution_count": 16,
   "metadata": {},
   "outputs": [
    {
     "data": {
      "text/plain": [
       "{'boxes': tensor([[ 76.,  45., 146.,  87.]]),\n",
       " 'labels': tensor([1]),\n",
       " 'area': tensor([2940.]),\n",
       " 'image_id': tensor(1),\n",
       " 'iscrowd': tensor([0], dtype=torch.int8)}"
      ]
     },
     "execution_count": 16,
     "metadata": {},
     "output_type": "execute_result"
    }
   ],
   "source": [
    "lab"
   ]
  },
  {
   "cell_type": "code",
   "execution_count": 17,
   "metadata": {},
   "outputs": [],
   "source": [
    "from torchvision.models.detection.faster_rcnn import FastRCNNPredictor"
   ]
  },
  {
   "cell_type": "code",
   "execution_count": 18,
   "metadata": {},
   "outputs": [],
   "source": [
    "model = models.detection.fasterrcnn_resnet50_fpn(pretrained=True)"
   ]
  },
  {
   "cell_type": "code",
   "execution_count": 19,
   "metadata": {},
   "outputs": [],
   "source": [
    "num_classes = 2 "
   ]
  },
  {
   "cell_type": "code",
   "execution_count": 20,
   "metadata": {},
   "outputs": [],
   "source": [
    "in_features = model.roi_heads.box_predictor.cls_score.in_features"
   ]
  },
  {
   "cell_type": "code",
   "execution_count": 21,
   "metadata": {},
   "outputs": [],
   "source": [
    "model.roi_heads.box_predictor = FastRCNNPredictor(in_features, num_classes)"
   ]
  },
  {
   "cell_type": "code",
   "execution_count": 22,
   "metadata": {},
   "outputs": [],
   "source": [
    "def collate_fn(batch):\n",
    "    return tuple(zip(*batch))"
   ]
  },
  {
   "cell_type": "code",
   "execution_count": 23,
   "metadata": {},
   "outputs": [],
   "source": [
    "dataset=DataLoader(guns,batch_size=2,collate_fn=collate_fn)"
   ]
  },
  {
   "cell_type": "code",
   "execution_count": 24,
   "metadata": {},
   "outputs": [
    {
     "name": "stderr",
     "output_type": "stream",
     "text": [
      "/Users/gunnvantsaini/miniconda3/envs/tensorflow/lib/python3.7/site-packages/ipykernel_launcher.py:28: UserWarning: To copy construct from a tensor, it is recommended to use sourceTensor.clone().detach() or sourceTensor.clone().detach().requires_grad_(True), rather than torch.tensor(sourceTensor).\n"
     ]
    }
   ],
   "source": [
    "images,targets = next(iter(dataset))"
   ]
  },
  {
   "cell_type": "code",
   "execution_count": 25,
   "metadata": {},
   "outputs": [],
   "source": [
    "images = list(image for image in images)\n",
    "targets = [{k: v for k, v in t.items()} for t in targets]"
   ]
  },
  {
   "cell_type": "code",
   "execution_count": 29,
   "metadata": {},
   "outputs": [],
   "source": [
    "output = model(images,targets)"
   ]
  },
  {
   "cell_type": "code",
   "execution_count": 30,
   "metadata": {},
   "outputs": [
    {
     "data": {
      "text/plain": [
       "{'loss_classifier': tensor(0.5880, grad_fn=<NllLossBackward>),\n",
       " 'loss_box_reg': tensor(0.1038, grad_fn=<DivBackward0>),\n",
       " 'loss_objectness': tensor(0.0355, grad_fn=<BinaryCrossEntropyWithLogitsBackward>),\n",
       " 'loss_rpn_box_reg': tensor(0.0135, grad_fn=<DivBackward0>)}"
      ]
     },
     "execution_count": 30,
     "metadata": {},
     "output_type": "execute_result"
    }
   ],
   "source": [
    "output"
   ]
  },
  {
   "cell_type": "code",
   "execution_count": 31,
   "metadata": {},
   "outputs": [
    {
     "data": {
      "text/plain": [
       "FasterRCNN(\n",
       "  (transform): GeneralizedRCNNTransform()\n",
       "  (backbone): BackboneWithFPN(\n",
       "    (body): IntermediateLayerGetter(\n",
       "      (conv1): Conv2d(3, 64, kernel_size=(7, 7), stride=(2, 2), padding=(3, 3), bias=False)\n",
       "      (bn1): FrozenBatchNorm2d()\n",
       "      (relu): ReLU(inplace=True)\n",
       "      (maxpool): MaxPool2d(kernel_size=3, stride=2, padding=1, dilation=1, ceil_mode=False)\n",
       "      (layer1): Sequential(\n",
       "        (0): Bottleneck(\n",
       "          (conv1): Conv2d(64, 64, kernel_size=(1, 1), stride=(1, 1), bias=False)\n",
       "          (bn1): FrozenBatchNorm2d()\n",
       "          (conv2): Conv2d(64, 64, kernel_size=(3, 3), stride=(1, 1), padding=(1, 1), bias=False)\n",
       "          (bn2): FrozenBatchNorm2d()\n",
       "          (conv3): Conv2d(64, 256, kernel_size=(1, 1), stride=(1, 1), bias=False)\n",
       "          (bn3): FrozenBatchNorm2d()\n",
       "          (relu): ReLU(inplace=True)\n",
       "          (downsample): Sequential(\n",
       "            (0): Conv2d(64, 256, kernel_size=(1, 1), stride=(1, 1), bias=False)\n",
       "            (1): FrozenBatchNorm2d()\n",
       "          )\n",
       "        )\n",
       "        (1): Bottleneck(\n",
       "          (conv1): Conv2d(256, 64, kernel_size=(1, 1), stride=(1, 1), bias=False)\n",
       "          (bn1): FrozenBatchNorm2d()\n",
       "          (conv2): Conv2d(64, 64, kernel_size=(3, 3), stride=(1, 1), padding=(1, 1), bias=False)\n",
       "          (bn2): FrozenBatchNorm2d()\n",
       "          (conv3): Conv2d(64, 256, kernel_size=(1, 1), stride=(1, 1), bias=False)\n",
       "          (bn3): FrozenBatchNorm2d()\n",
       "          (relu): ReLU(inplace=True)\n",
       "        )\n",
       "        (2): Bottleneck(\n",
       "          (conv1): Conv2d(256, 64, kernel_size=(1, 1), stride=(1, 1), bias=False)\n",
       "          (bn1): FrozenBatchNorm2d()\n",
       "          (conv2): Conv2d(64, 64, kernel_size=(3, 3), stride=(1, 1), padding=(1, 1), bias=False)\n",
       "          (bn2): FrozenBatchNorm2d()\n",
       "          (conv3): Conv2d(64, 256, kernel_size=(1, 1), stride=(1, 1), bias=False)\n",
       "          (bn3): FrozenBatchNorm2d()\n",
       "          (relu): ReLU(inplace=True)\n",
       "        )\n",
       "      )\n",
       "      (layer2): Sequential(\n",
       "        (0): Bottleneck(\n",
       "          (conv1): Conv2d(256, 128, kernel_size=(1, 1), stride=(1, 1), bias=False)\n",
       "          (bn1): FrozenBatchNorm2d()\n",
       "          (conv2): Conv2d(128, 128, kernel_size=(3, 3), stride=(2, 2), padding=(1, 1), bias=False)\n",
       "          (bn2): FrozenBatchNorm2d()\n",
       "          (conv3): Conv2d(128, 512, kernel_size=(1, 1), stride=(1, 1), bias=False)\n",
       "          (bn3): FrozenBatchNorm2d()\n",
       "          (relu): ReLU(inplace=True)\n",
       "          (downsample): Sequential(\n",
       "            (0): Conv2d(256, 512, kernel_size=(1, 1), stride=(2, 2), bias=False)\n",
       "            (1): FrozenBatchNorm2d()\n",
       "          )\n",
       "        )\n",
       "        (1): Bottleneck(\n",
       "          (conv1): Conv2d(512, 128, kernel_size=(1, 1), stride=(1, 1), bias=False)\n",
       "          (bn1): FrozenBatchNorm2d()\n",
       "          (conv2): Conv2d(128, 128, kernel_size=(3, 3), stride=(1, 1), padding=(1, 1), bias=False)\n",
       "          (bn2): FrozenBatchNorm2d()\n",
       "          (conv3): Conv2d(128, 512, kernel_size=(1, 1), stride=(1, 1), bias=False)\n",
       "          (bn3): FrozenBatchNorm2d()\n",
       "          (relu): ReLU(inplace=True)\n",
       "        )\n",
       "        (2): Bottleneck(\n",
       "          (conv1): Conv2d(512, 128, kernel_size=(1, 1), stride=(1, 1), bias=False)\n",
       "          (bn1): FrozenBatchNorm2d()\n",
       "          (conv2): Conv2d(128, 128, kernel_size=(3, 3), stride=(1, 1), padding=(1, 1), bias=False)\n",
       "          (bn2): FrozenBatchNorm2d()\n",
       "          (conv3): Conv2d(128, 512, kernel_size=(1, 1), stride=(1, 1), bias=False)\n",
       "          (bn3): FrozenBatchNorm2d()\n",
       "          (relu): ReLU(inplace=True)\n",
       "        )\n",
       "        (3): Bottleneck(\n",
       "          (conv1): Conv2d(512, 128, kernel_size=(1, 1), stride=(1, 1), bias=False)\n",
       "          (bn1): FrozenBatchNorm2d()\n",
       "          (conv2): Conv2d(128, 128, kernel_size=(3, 3), stride=(1, 1), padding=(1, 1), bias=False)\n",
       "          (bn2): FrozenBatchNorm2d()\n",
       "          (conv3): Conv2d(128, 512, kernel_size=(1, 1), stride=(1, 1), bias=False)\n",
       "          (bn3): FrozenBatchNorm2d()\n",
       "          (relu): ReLU(inplace=True)\n",
       "        )\n",
       "      )\n",
       "      (layer3): Sequential(\n",
       "        (0): Bottleneck(\n",
       "          (conv1): Conv2d(512, 256, kernel_size=(1, 1), stride=(1, 1), bias=False)\n",
       "          (bn1): FrozenBatchNorm2d()\n",
       "          (conv2): Conv2d(256, 256, kernel_size=(3, 3), stride=(2, 2), padding=(1, 1), bias=False)\n",
       "          (bn2): FrozenBatchNorm2d()\n",
       "          (conv3): Conv2d(256, 1024, kernel_size=(1, 1), stride=(1, 1), bias=False)\n",
       "          (bn3): FrozenBatchNorm2d()\n",
       "          (relu): ReLU(inplace=True)\n",
       "          (downsample): Sequential(\n",
       "            (0): Conv2d(512, 1024, kernel_size=(1, 1), stride=(2, 2), bias=False)\n",
       "            (1): FrozenBatchNorm2d()\n",
       "          )\n",
       "        )\n",
       "        (1): Bottleneck(\n",
       "          (conv1): Conv2d(1024, 256, kernel_size=(1, 1), stride=(1, 1), bias=False)\n",
       "          (bn1): FrozenBatchNorm2d()\n",
       "          (conv2): Conv2d(256, 256, kernel_size=(3, 3), stride=(1, 1), padding=(1, 1), bias=False)\n",
       "          (bn2): FrozenBatchNorm2d()\n",
       "          (conv3): Conv2d(256, 1024, kernel_size=(1, 1), stride=(1, 1), bias=False)\n",
       "          (bn3): FrozenBatchNorm2d()\n",
       "          (relu): ReLU(inplace=True)\n",
       "        )\n",
       "        (2): Bottleneck(\n",
       "          (conv1): Conv2d(1024, 256, kernel_size=(1, 1), stride=(1, 1), bias=False)\n",
       "          (bn1): FrozenBatchNorm2d()\n",
       "          (conv2): Conv2d(256, 256, kernel_size=(3, 3), stride=(1, 1), padding=(1, 1), bias=False)\n",
       "          (bn2): FrozenBatchNorm2d()\n",
       "          (conv3): Conv2d(256, 1024, kernel_size=(1, 1), stride=(1, 1), bias=False)\n",
       "          (bn3): FrozenBatchNorm2d()\n",
       "          (relu): ReLU(inplace=True)\n",
       "        )\n",
       "        (3): Bottleneck(\n",
       "          (conv1): Conv2d(1024, 256, kernel_size=(1, 1), stride=(1, 1), bias=False)\n",
       "          (bn1): FrozenBatchNorm2d()\n",
       "          (conv2): Conv2d(256, 256, kernel_size=(3, 3), stride=(1, 1), padding=(1, 1), bias=False)\n",
       "          (bn2): FrozenBatchNorm2d()\n",
       "          (conv3): Conv2d(256, 1024, kernel_size=(1, 1), stride=(1, 1), bias=False)\n",
       "          (bn3): FrozenBatchNorm2d()\n",
       "          (relu): ReLU(inplace=True)\n",
       "        )\n",
       "        (4): Bottleneck(\n",
       "          (conv1): Conv2d(1024, 256, kernel_size=(1, 1), stride=(1, 1), bias=False)\n",
       "          (bn1): FrozenBatchNorm2d()\n",
       "          (conv2): Conv2d(256, 256, kernel_size=(3, 3), stride=(1, 1), padding=(1, 1), bias=False)\n",
       "          (bn2): FrozenBatchNorm2d()\n",
       "          (conv3): Conv2d(256, 1024, kernel_size=(1, 1), stride=(1, 1), bias=False)\n",
       "          (bn3): FrozenBatchNorm2d()\n",
       "          (relu): ReLU(inplace=True)\n",
       "        )\n",
       "        (5): Bottleneck(\n",
       "          (conv1): Conv2d(1024, 256, kernel_size=(1, 1), stride=(1, 1), bias=False)\n",
       "          (bn1): FrozenBatchNorm2d()\n",
       "          (conv2): Conv2d(256, 256, kernel_size=(3, 3), stride=(1, 1), padding=(1, 1), bias=False)\n",
       "          (bn2): FrozenBatchNorm2d()\n",
       "          (conv3): Conv2d(256, 1024, kernel_size=(1, 1), stride=(1, 1), bias=False)\n",
       "          (bn3): FrozenBatchNorm2d()\n",
       "          (relu): ReLU(inplace=True)\n",
       "        )\n",
       "      )\n",
       "      (layer4): Sequential(\n",
       "        (0): Bottleneck(\n",
       "          (conv1): Conv2d(1024, 512, kernel_size=(1, 1), stride=(1, 1), bias=False)\n",
       "          (bn1): FrozenBatchNorm2d()\n",
       "          (conv2): Conv2d(512, 512, kernel_size=(3, 3), stride=(2, 2), padding=(1, 1), bias=False)\n",
       "          (bn2): FrozenBatchNorm2d()\n",
       "          (conv3): Conv2d(512, 2048, kernel_size=(1, 1), stride=(1, 1), bias=False)\n",
       "          (bn3): FrozenBatchNorm2d()\n",
       "          (relu): ReLU(inplace=True)\n",
       "          (downsample): Sequential(\n",
       "            (0): Conv2d(1024, 2048, kernel_size=(1, 1), stride=(2, 2), bias=False)\n",
       "            (1): FrozenBatchNorm2d()\n",
       "          )\n",
       "        )\n",
       "        (1): Bottleneck(\n",
       "          (conv1): Conv2d(2048, 512, kernel_size=(1, 1), stride=(1, 1), bias=False)\n",
       "          (bn1): FrozenBatchNorm2d()\n",
       "          (conv2): Conv2d(512, 512, kernel_size=(3, 3), stride=(1, 1), padding=(1, 1), bias=False)\n",
       "          (bn2): FrozenBatchNorm2d()\n",
       "          (conv3): Conv2d(512, 2048, kernel_size=(1, 1), stride=(1, 1), bias=False)\n",
       "          (bn3): FrozenBatchNorm2d()\n",
       "          (relu): ReLU(inplace=True)\n",
       "        )\n",
       "        (2): Bottleneck(\n",
       "          (conv1): Conv2d(2048, 512, kernel_size=(1, 1), stride=(1, 1), bias=False)\n",
       "          (bn1): FrozenBatchNorm2d()\n",
       "          (conv2): Conv2d(512, 512, kernel_size=(3, 3), stride=(1, 1), padding=(1, 1), bias=False)\n",
       "          (bn2): FrozenBatchNorm2d()\n",
       "          (conv3): Conv2d(512, 2048, kernel_size=(1, 1), stride=(1, 1), bias=False)\n",
       "          (bn3): FrozenBatchNorm2d()\n",
       "          (relu): ReLU(inplace=True)\n",
       "        )\n",
       "      )\n",
       "    )\n",
       "    (fpn): FeaturePyramidNetwork(\n",
       "      (inner_blocks): ModuleList(\n",
       "        (0): Conv2d(256, 256, kernel_size=(1, 1), stride=(1, 1))\n",
       "        (1): Conv2d(512, 256, kernel_size=(1, 1), stride=(1, 1))\n",
       "        (2): Conv2d(1024, 256, kernel_size=(1, 1), stride=(1, 1))\n",
       "        (3): Conv2d(2048, 256, kernel_size=(1, 1), stride=(1, 1))\n",
       "      )\n",
       "      (layer_blocks): ModuleList(\n",
       "        (0): Conv2d(256, 256, kernel_size=(3, 3), stride=(1, 1), padding=(1, 1))\n",
       "        (1): Conv2d(256, 256, kernel_size=(3, 3), stride=(1, 1), padding=(1, 1))\n",
       "        (2): Conv2d(256, 256, kernel_size=(3, 3), stride=(1, 1), padding=(1, 1))\n",
       "        (3): Conv2d(256, 256, kernel_size=(3, 3), stride=(1, 1), padding=(1, 1))\n",
       "      )\n",
       "      (extra_blocks): LastLevelMaxPool()\n",
       "    )\n",
       "  )\n",
       "  (rpn): RegionProposalNetwork(\n",
       "    (anchor_generator): AnchorGenerator()\n",
       "    (head): RPNHead(\n",
       "      (conv): Conv2d(256, 256, kernel_size=(3, 3), stride=(1, 1), padding=(1, 1))\n",
       "      (cls_logits): Conv2d(256, 3, kernel_size=(1, 1), stride=(1, 1))\n",
       "      (bbox_pred): Conv2d(256, 12, kernel_size=(1, 1), stride=(1, 1))\n",
       "    )\n",
       "  )\n",
       "  (roi_heads): RoIHeads(\n",
       "    (box_roi_pool): MultiScaleRoIAlign()\n",
       "    (box_head): TwoMLPHead(\n",
       "      (fc6): Linear(in_features=12544, out_features=1024, bias=True)\n",
       "      (fc7): Linear(in_features=1024, out_features=1024, bias=True)\n",
       "    )\n",
       "    (box_predictor): FastRCNNPredictor(\n",
       "      (cls_score): Linear(in_features=1024, out_features=2, bias=True)\n",
       "      (bbox_pred): Linear(in_features=1024, out_features=8, bias=True)\n",
       "    )\n",
       "  )\n",
       ")"
      ]
     },
     "execution_count": 31,
     "metadata": {},
     "output_type": "execute_result"
    }
   ],
   "source": [
    "model.eval()"
   ]
  },
  {
   "cell_type": "code",
   "execution_count": 33,
   "metadata": {},
   "outputs": [],
   "source": [
    "op=model(images)"
   ]
  },
  {
   "cell_type": "code",
   "execution_count": 34,
   "metadata": {},
   "outputs": [
    {
     "data": {
      "text/plain": [
       "[{'boxes': tensor([[1.6639e+01, 6.6881e+01, 3.1453e+01, 8.9683e+01],\n",
       "          [1.0813e+02, 0.0000e+00, 2.2660e+02, 1.3818e+02],\n",
       "          [8.1177e+01, 4.5300e+01, 1.1537e+02, 6.9265e+01],\n",
       "          [2.2537e+02, 4.0688e+01, 2.4909e+02, 5.8959e+01],\n",
       "          [0.0000e+00, 1.2541e+02, 4.8426e+01, 1.4243e+02],\n",
       "          [1.6041e+02, 2.4790e+01, 2.5426e+02, 1.4497e+02],\n",
       "          [2.7189e+02, 6.4824e+01, 2.7801e+02, 7.7154e+01],\n",
       "          [2.2542e+02, 4.0598e+01, 2.5874e+02, 6.6811e+01],\n",
       "          [7.0784e+01, 3.2557e+00, 1.8182e+02, 1.3194e+02],\n",
       "          [2.0487e+02, 7.9900e+01, 2.3240e+02, 1.4500e+02],\n",
       "          [5.8428e+01, 6.2614e+01, 1.1998e+02, 1.3725e+02],\n",
       "          [3.2718e+01, 1.3282e+02, 1.1844e+02, 1.4400e+02],\n",
       "          [5.5095e+00, 1.3074e+02, 3.9444e+01, 1.4320e+02],\n",
       "          [1.7285e+00, 1.2859e+02, 3.7661e+01, 1.3796e+02],\n",
       "          [2.6715e+02, 1.2598e+01, 2.9280e+02, 4.0571e+01],\n",
       "          [2.3930e+02, 5.8096e+01, 2.4435e+02, 6.8577e+01],\n",
       "          [3.8433e+01, 1.0037e+02, 5.3896e+01, 1.2471e+02],\n",
       "          [2.4301e+02, 5.7630e+01, 2.5608e+02, 6.9193e+01],\n",
       "          [2.9578e+02, 5.9693e+01, 3.0147e+02, 7.0932e+01],\n",
       "          [6.1344e+01, 6.3983e+01, 1.0443e+02, 9.8108e+01],\n",
       "          [5.7115e+01, 7.8411e+01, 8.4679e+01, 1.2089e+02],\n",
       "          [3.2522e+00, 7.2182e+01, 7.2468e+01, 9.3099e+01],\n",
       "          [9.3301e+01, 3.1258e+01, 1.0561e+02, 4.1935e+01],\n",
       "          [5.9288e+01, 7.9436e+01, 7.9901e+01, 9.8490e+01],\n",
       "          [1.9948e+02, 8.9989e+01, 2.1416e+02, 1.1436e+02],\n",
       "          [8.5424e+01, 4.6554e+01, 9.9745e+01, 6.6800e+01],\n",
       "          [1.4980e+02, 2.6889e+01, 1.6877e+02, 7.5462e+01],\n",
       "          [1.3924e+02, 3.1069e+01, 2.1970e+02, 1.3105e+02],\n",
       "          [2.9979e+02, 5.5394e+01, 3.2387e+02, 6.6005e+01],\n",
       "          [2.1990e+02, 5.9972e+01, 2.5447e+02, 8.7007e+01],\n",
       "          [2.9352e+02, 4.1224e+01, 3.2431e+02, 6.8117e+01],\n",
       "          [1.0528e+02, 4.5782e+01, 1.4206e+02, 7.8233e+01],\n",
       "          [1.0840e+01, 1.1981e+01, 1.1460e+02, 1.3077e+02],\n",
       "          [3.0308e+02, 3.9136e+01, 3.1130e+02, 6.2428e+01],\n",
       "          [2.5673e+02, 6.8671e+01, 2.9826e+02, 7.4347e+01],\n",
       "          [2.9745e+02, 5.7250e+01, 3.0349e+02, 6.7624e+01],\n",
       "          [1.6110e+02, 6.0098e+01, 1.7980e+02, 7.3937e+01],\n",
       "          [3.8545e+01, 5.3222e+01, 7.9658e+01, 1.2577e+02],\n",
       "          [8.7283e+01, 4.3094e+01, 1.3197e+02, 7.4287e+01],\n",
       "          [2.8120e+02, 6.1948e+01, 2.8638e+02, 7.1027e+01],\n",
       "          [4.0939e+00, 6.6353e+01, 4.7228e+01, 9.6534e+01],\n",
       "          [2.2238e+02, 5.8246e+01, 2.2879e+02, 6.8997e+01],\n",
       "          [4.0955e+01, 3.6123e+01, 2.8030e+02, 1.4092e+02],\n",
       "          [5.1355e+01, 3.0126e+01, 1.1754e+02, 1.1406e+02],\n",
       "          [1.5374e+02, 5.7090e+01, 1.5922e+02, 6.9992e+01],\n",
       "          [3.5619e+01, 8.8763e+01, 7.5583e+01, 1.2434e+02],\n",
       "          [2.8478e+02, 6.0245e+01, 2.8998e+02, 7.1071e+01],\n",
       "          [2.7586e+02, 4.0579e+01, 3.2252e+02, 7.4589e+01],\n",
       "          [1.6580e+02, 5.9286e+01, 1.7186e+02, 6.9643e+01],\n",
       "          [6.4118e+01, 4.4315e+01, 7.0998e+01, 6.0613e+01],\n",
       "          [1.5086e+02, 5.8861e+01, 1.6336e+02, 7.6793e+01],\n",
       "          [2.7032e+02, 6.3373e+01, 2.7916e+02, 8.5079e+01],\n",
       "          [4.1164e+00, 1.2924e+02, 9.6799e+01, 1.4287e+02],\n",
       "          [2.8300e+02, 6.1635e+01, 2.8805e+02, 7.1174e+01],\n",
       "          [2.3105e+01, 1.1154e+02, 3.9267e+01, 1.2303e+02],\n",
       "          [2.2866e+02, 6.8453e+01, 2.5789e+02, 1.1864e+02],\n",
       "          [1.6281e+02, 5.9611e+01, 1.6865e+02, 7.0599e+01],\n",
       "          [9.2907e+01, 2.7566e+01, 1.1174e+02, 4.1510e+01],\n",
       "          [1.6018e+02, 5.8122e+01, 1.7227e+02, 7.3014e+01],\n",
       "          [2.2377e+01, 4.0928e+01, 3.4802e+01, 6.5648e+01],\n",
       "          [1.4167e+02, 2.5981e+01, 1.5310e+02, 4.1147e+01],\n",
       "          [8.0008e+01, 6.4016e+01, 1.0420e+02, 1.0904e+02],\n",
       "          [2.1986e+02, 9.5379e+01, 2.4571e+02, 1.4500e+02],\n",
       "          [1.6421e+02, 5.7907e+01, 1.6965e+02, 6.7882e+01],\n",
       "          [2.8710e+02, 5.7485e+01, 2.9639e+02, 7.3082e+01],\n",
       "          [1.6916e+02, 5.8666e+01, 1.7441e+02, 6.9176e+01],\n",
       "          [2.7822e+02, 6.1464e+01, 3.1516e+02, 7.2480e+01],\n",
       "          [6.1719e+01, 6.9062e+01, 1.2122e+02, 8.8996e+01],\n",
       "          [4.0091e+01, 8.9318e+01, 5.4315e+01, 1.0279e+02],\n",
       "          [1.8859e+01, 8.3328e+01, 9.6189e+01, 1.3953e+02],\n",
       "          [3.2920e+01, 4.5296e+01, 4.5835e+01, 6.7520e+01],\n",
       "          [3.0136e-01, 8.8982e+01, 4.8320e+01, 9.7209e+01],\n",
       "          [3.5544e+00, 8.6778e+01, 4.6606e+01, 9.4184e+01],\n",
       "          [1.5701e+01, 3.6328e+01, 1.1180e+02, 9.8265e+01],\n",
       "          [2.4931e+02, 6.6674e+01, 3.1040e+02, 7.5420e+01],\n",
       "          [1.5558e+02, 5.7299e+01, 1.6057e+02, 6.9034e+01],\n",
       "          [2.4474e+02, 6.1816e+01, 3.1037e+02, 7.1817e+01],\n",
       "          [6.3037e+01, 4.3448e+01, 7.5475e+01, 6.4428e+01],\n",
       "          [2.9115e+02, 6.0026e+01, 2.9627e+02, 7.1465e+01],\n",
       "          [3.8971e+01, 2.5277e+01, 1.4591e+02, 1.3559e+02],\n",
       "          [2.3585e+02, 5.7202e+01, 2.5024e+02, 6.8972e+01],\n",
       "          [1.9513e+02, 8.6299e+01, 2.1411e+02, 1.0685e+02],\n",
       "          [2.4427e+02, 5.3960e+01, 3.0283e+02, 6.8990e+01],\n",
       "          [2.1681e+02, 6.2086e+01, 2.5248e+02, 1.0515e+02],\n",
       "          [1.6563e+02, 5.8363e+01, 1.7838e+02, 6.9339e+01],\n",
       "          [2.5451e+02, 6.5990e+01, 3.0498e+02, 7.0923e+01],\n",
       "          [0.0000e+00, 8.9870e+01, 5.0640e+01, 1.0758e+02],\n",
       "          [4.0026e+00, 8.6387e+01, 6.0761e+01, 1.0259e+02],\n",
       "          [4.6605e+01, 7.0140e+01, 7.5255e+01, 1.1763e+02],\n",
       "          [2.7425e+02, 6.4159e+01, 2.7951e+02, 7.4368e+01],\n",
       "          [2.2190e+02, 4.8375e+01, 2.3440e+02, 6.8568e+01],\n",
       "          [2.9459e+02, 6.2450e+01, 2.9881e+02, 7.2770e+01],\n",
       "          [2.7260e+02, 6.2494e+01, 2.7681e+02, 7.3352e+01],\n",
       "          [1.1841e+02, 2.5867e+01, 1.2844e+02, 4.7734e+01],\n",
       "          [2.6689e+02, 6.9367e+01, 2.8441e+02, 7.4203e+01],\n",
       "          [2.8934e+02, 5.9425e+01, 3.0239e+02, 7.2556e+01],\n",
       "          [1.5661e+02, 3.0602e+01, 1.6595e+02, 6.9817e+01],\n",
       "          [1.4968e+02, 5.2032e+01, 1.8359e+02, 7.5597e+01],\n",
       "          [1.3054e+02, 6.7506e+01, 2.6975e+02, 7.9438e+01],\n",
       "          [1.5032e+02, 6.3198e+01, 1.7218e+02, 7.7717e+01]],\n",
       "         grad_fn=<StackBackward>),\n",
       "  'labels': tensor([1, 1, 1, 1, 1, 1, 1, 1, 1, 1, 1, 1, 1, 1, 1, 1, 1, 1, 1, 1, 1, 1, 1, 1,\n",
       "          1, 1, 1, 1, 1, 1, 1, 1, 1, 1, 1, 1, 1, 1, 1, 1, 1, 1, 1, 1, 1, 1, 1, 1,\n",
       "          1, 1, 1, 1, 1, 1, 1, 1, 1, 1, 1, 1, 1, 1, 1, 1, 1, 1, 1, 1, 1, 1, 1, 1,\n",
       "          1, 1, 1, 1, 1, 1, 1, 1, 1, 1, 1, 1, 1, 1, 1, 1, 1, 1, 1, 1, 1, 1, 1, 1,\n",
       "          1, 1, 1, 1]),\n",
       "  'scores': tensor([0.6948, 0.6438, 0.6334, 0.6230, 0.6217, 0.6217, 0.6057, 0.6046, 0.6029,\n",
       "          0.6009, 0.5986, 0.5983, 0.5947, 0.5930, 0.5930, 0.5929, 0.5921, 0.5888,\n",
       "          0.5871, 0.5826, 0.5815, 0.5802, 0.5773, 0.5737, 0.5736, 0.5696, 0.5692,\n",
       "          0.5646, 0.5645, 0.5635, 0.5615, 0.5611, 0.5610, 0.5599, 0.5595, 0.5582,\n",
       "          0.5560, 0.5559, 0.5539, 0.5535, 0.5521, 0.5520, 0.5494, 0.5484, 0.5464,\n",
       "          0.5453, 0.5450, 0.5425, 0.5412, 0.5400, 0.5398, 0.5394, 0.5386, 0.5378,\n",
       "          0.5362, 0.5361, 0.5359, 0.5351, 0.5350, 0.5347, 0.5346, 0.5337, 0.5322,\n",
       "          0.5321, 0.5320, 0.5319, 0.5307, 0.5306, 0.5306, 0.5272, 0.5271, 0.5257,\n",
       "          0.5255, 0.5249, 0.5244, 0.5238, 0.5237, 0.5235, 0.5233, 0.5227, 0.5209,\n",
       "          0.5208, 0.5186, 0.5186, 0.5179, 0.5177, 0.5173, 0.5171, 0.5157, 0.5154,\n",
       "          0.5147, 0.5145, 0.5140, 0.5131, 0.5125, 0.5113, 0.5109, 0.5100, 0.5098,\n",
       "          0.5095], grad_fn=<IndexBackward>)},\n",
       " {'boxes': tensor([[ 39.3093, 180.5490, 175.7021, 190.1533],\n",
       "          [  2.7280,  77.8549,  37.3249, 152.1181],\n",
       "          [  6.1687, 128.7545,  20.1541, 150.0203],\n",
       "          [220.8354,  88.5489, 232.0891,  96.6337],\n",
       "          [ 45.8940, 164.3139, 252.8522, 183.8588],\n",
       "          [ 12.8380,  98.2093,  37.2509, 147.4004],\n",
       "          [  0.0000, 118.4540,  14.9234, 125.6542],\n",
       "          [241.1556, 118.8356, 264.0000, 127.6943],\n",
       "          [126.4573,  70.9793, 150.8228, 126.1946],\n",
       "          [178.6153, 124.6606, 195.1902, 146.4065],\n",
       "          [113.8605,  75.5524, 142.5611, 134.3423],\n",
       "          [  0.0000, 166.1411, 158.2149, 184.8691],\n",
       "          [ 13.3751, 102.8235,  24.3880, 123.9767],\n",
       "          [ 16.3047, 164.8943, 117.3472, 179.1489],\n",
       "          [219.9087,  88.1244, 231.6085, 112.2503],\n",
       "          [ 97.4685, 121.7140, 111.2559, 144.8734],\n",
       "          [189.5380, 125.9766, 200.3121, 144.8656],\n",
       "          [194.6196, 122.6266, 211.4127, 144.5276],\n",
       "          [  0.4766, 123.3091,  21.8571, 157.1140],\n",
       "          [  0.0000, 156.1186, 112.0652, 181.2042],\n",
       "          [222.1663,  95.1672, 232.5997, 105.4325],\n",
       "          [ 22.5104,  69.7267,  45.0952, 110.5854],\n",
       "          [  0.0000, 179.7817, 111.3518, 189.1474],\n",
       "          [172.7161,  92.9983, 191.8161, 108.9291],\n",
       "          [110.3171, 104.2934, 122.0885, 145.0089],\n",
       "          [190.4247,  59.2631, 213.1407,  94.4890],\n",
       "          [ 34.1030,  76.6113,  78.3992, 154.3633],\n",
       "          [ 49.7685,  70.6581,  74.8707, 127.3856],\n",
       "          [  4.3180,  95.0111,  35.1366, 118.5686],\n",
       "          [ 39.6440,  57.1333,  59.7061, 102.1459],\n",
       "          [221.1939,  95.2856, 233.5846, 121.3978],\n",
       "          [166.1411, 113.5133, 180.0050, 143.7677],\n",
       "          [ 53.9538, 141.9849, 264.0000, 180.1475],\n",
       "          [ 61.5754, 166.2613, 192.9536, 177.2173],\n",
       "          [  0.0000, 103.9256, 109.7793, 189.9253],\n",
       "          [122.3092, 127.8802, 126.7114, 145.7039],\n",
       "          [ 58.8885,  59.1786,  75.6845,  85.5310],\n",
       "          [183.9516,  87.9709, 204.4617, 137.5612],\n",
       "          [ 11.8053,  67.3310,  48.9329,  99.8118],\n",
       "          [118.0600,  36.6523, 141.6195,  86.9834],\n",
       "          [144.2121,  52.7950, 169.4022,  90.2471],\n",
       "          [ 71.4414,  93.3062,  93.9888, 146.8242],\n",
       "          [ 14.2607,  96.0526,  26.6711, 117.5769],\n",
       "          [220.4921,  93.2332, 235.5884, 108.5154],\n",
       "          [ 18.2125,  73.7238,  43.6746, 137.2633],\n",
       "          [ 31.5651, 124.3261,  82.8341, 145.5808],\n",
       "          [  0.0000, 135.1335, 144.9975, 179.4949],\n",
       "          [ 34.2650,  64.7252,  50.1272,  92.1152],\n",
       "          [ 35.0474,  65.1061,  54.3558, 113.7962],\n",
       "          [  2.6020, 149.4366,  71.8840, 173.8925],\n",
       "          [152.4322,  56.3745, 178.1810,  97.9031],\n",
       "          [179.7130,  78.8026, 214.8637, 141.1329],\n",
       "          [124.4235, 125.5814, 129.2222, 144.6462],\n",
       "          [ 20.2089,  53.5605, 101.5808, 186.0533],\n",
       "          [235.9756, 116.2402, 264.0000, 125.2463],\n",
       "          [218.3473,  90.3172, 228.6107, 119.5520],\n",
       "          [ 23.1805,  80.2456,  28.2734,  92.5696],\n",
       "          [120.3693, 126.2318, 124.0975, 146.2460],\n",
       "          [108.6508,  86.3151, 127.9939, 143.2704],\n",
       "          [125.4718,  48.9543, 147.2001,  87.4808],\n",
       "          [  0.0000, 176.4136, 108.2812, 185.6481],\n",
       "          [ 19.0786,  74.2309,  33.9799,  98.4515],\n",
       "          [ 94.3535,  66.4924, 164.0697, 126.7935],\n",
       "          [101.6393,  98.7859, 121.0325, 146.5361],\n",
       "          [  0.0000, 152.4627, 156.4178, 172.3979],\n",
       "          [142.4443,  66.5412, 148.2249,  80.1974],\n",
       "          [143.6342, 122.0127, 163.0996, 146.1478],\n",
       "          [244.1438, 132.4261, 264.0000, 178.7547],\n",
       "          [ 67.2192,  59.4127,  81.0762,  87.9859],\n",
       "          [244.6710, 155.1225, 264.0000, 176.1592],\n",
       "          [175.2185,  78.0454, 192.9435,  91.1909],\n",
       "          [143.4552,  37.7789, 221.1491, 166.0746],\n",
       "          [  4.9401,  43.6192,  57.5974, 116.2473],\n",
       "          [115.9112,  40.7574, 127.2971,  73.1369],\n",
       "          [ 50.4018,  69.7704,  59.2750,  93.7716],\n",
       "          [199.1065, 138.2467, 209.0516, 146.3167],\n",
       "          [ 28.2985,  64.7787, 179.0978, 188.4874],\n",
       "          [ 39.4292,  72.6869,  51.4725, 110.5781],\n",
       "          [  0.0000,  61.7563,  70.4709, 189.8436],\n",
       "          [128.3039, 169.5807, 264.0000, 187.2866],\n",
       "          [123.7231, 120.4036, 128.3249, 141.4223],\n",
       "          [107.5399,  13.9791, 149.6003, 106.5105],\n",
       "          [ 49.9994,  74.1471,  57.0299,  90.5685],\n",
       "          [237.8770, 124.5794, 264.0000, 149.4463],\n",
       "          [ 79.6956,  56.3485, 263.8600, 186.5730],\n",
       "          [192.4729, 133.4043, 209.6575, 145.9437],\n",
       "          [136.5685, 156.7258, 264.0000, 179.0247],\n",
       "          [ 24.4911,  97.3901,  34.3046, 107.4045],\n",
       "          [179.0417,  39.5966, 243.3094, 158.5005],\n",
       "          [168.5029, 140.0806, 172.7262, 146.7333],\n",
       "          [224.5748, 106.2116, 243.0776, 176.5513],\n",
       "          [  0.0000, 143.4663, 102.7713, 152.0742],\n",
       "          [240.2703, 131.7631, 264.0000, 143.6864],\n",
       "          [ 52.8093,  74.8133,  58.3466,  90.9784],\n",
       "          [  0.0000, 126.4649,  18.0466, 179.3350],\n",
       "          [171.5529, 106.7656, 189.7385, 110.6185],\n",
       "          [159.7869, 116.4284, 175.4702, 143.7531],\n",
       "          [198.8082, 116.6719, 216.1192, 142.1924],\n",
       "          [ 29.4847, 146.1791, 215.7575, 166.0355],\n",
       "          [ 79.5956,  89.2529, 101.4371, 143.9697]], grad_fn=<StackBackward>),\n",
       "  'labels': tensor([1, 1, 1, 1, 1, 1, 1, 1, 1, 1, 1, 1, 1, 1, 1, 1, 1, 1, 1, 1, 1, 1, 1, 1,\n",
       "          1, 1, 1, 1, 1, 1, 1, 1, 1, 1, 1, 1, 1, 1, 1, 1, 1, 1, 1, 1, 1, 1, 1, 1,\n",
       "          1, 1, 1, 1, 1, 1, 1, 1, 1, 1, 1, 1, 1, 1, 1, 1, 1, 1, 1, 1, 1, 1, 1, 1,\n",
       "          1, 1, 1, 1, 1, 1, 1, 1, 1, 1, 1, 1, 1, 1, 1, 1, 1, 1, 1, 1, 1, 1, 1, 1,\n",
       "          1, 1, 1, 1]),\n",
       "  'scores': tensor([0.6400, 0.6194, 0.6184, 0.6068, 0.6040, 0.6017, 0.6012, 0.5933, 0.5919,\n",
       "          0.5883, 0.5877, 0.5869, 0.5858, 0.5795, 0.5701, 0.5679, 0.5671, 0.5652,\n",
       "          0.5571, 0.5570, 0.5532, 0.5459, 0.5444, 0.5424, 0.5409, 0.5399, 0.5388,\n",
       "          0.5385, 0.5375, 0.5371, 0.5369, 0.5355, 0.5353, 0.5352, 0.5348, 0.5337,\n",
       "          0.5330, 0.5314, 0.5289, 0.5269, 0.5245, 0.5245, 0.5211, 0.5202, 0.5181,\n",
       "          0.5181, 0.5170, 0.5163, 0.5146, 0.5115, 0.5109, 0.5101, 0.5084, 0.5084,\n",
       "          0.5042, 0.5024, 0.5017, 0.4989, 0.4989, 0.4988, 0.4978, 0.4970, 0.4963,\n",
       "          0.4961, 0.4959, 0.4955, 0.4950, 0.4947, 0.4942, 0.4940, 0.4931, 0.4924,\n",
       "          0.4919, 0.4914, 0.4912, 0.4905, 0.4891, 0.4873, 0.4871, 0.4871, 0.4866,\n",
       "          0.4865, 0.4864, 0.4846, 0.4816, 0.4811, 0.4804, 0.4803, 0.4798, 0.4793,\n",
       "          0.4792, 0.4785, 0.4779, 0.4778, 0.4777, 0.4752, 0.4740, 0.4731, 0.4728,\n",
       "          0.4726], grad_fn=<IndexBackward>)}]"
      ]
     },
     "execution_count": 34,
     "metadata": {},
     "output_type": "execute_result"
    }
   ],
   "source": [
    "op"
   ]
  },
  {
   "cell_type": "code",
   "execution_count": null,
   "metadata": {},
   "outputs": [],
   "source": []
  }
 ],
 "metadata": {
  "kernelspec": {
   "display_name": "Python 3",
   "language": "python",
   "name": "python3"
  },
  "language_info": {
   "codemirror_mode": {
    "name": "ipython",
    "version": 3
   },
   "file_extension": ".py",
   "mimetype": "text/x-python",
   "name": "python",
   "nbconvert_exporter": "python",
   "pygments_lexer": "ipython3",
   "version": "3.7.6"
  }
 },
 "nbformat": 4,
 "nbformat_minor": 2
}
