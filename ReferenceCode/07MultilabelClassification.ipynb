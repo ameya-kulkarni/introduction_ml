{
 "cells": [
  {
   "cell_type": "markdown",
   "metadata": {},
   "source": [
    "Multilabel classification refers to the scenario when each item can have more than one label. This is also a classification problem, but the way it is solved is slightly different:\n",
    "- In the last layer of the network instead of softmax activation, sigmoid is used\n",
    "- Instead of cross-entropy loss, binary cross entropy loss is used\n",
    "- Instead of computing ROC, Confusion Matrix,  Hamming Loss, Multilabel Confusion Matrix"
   ]
  },
  {
   "cell_type": "code",
   "execution_count": 1,
   "metadata": {},
   "outputs": [],
   "source": [
    "import torch\n",
    "from torch import nn\n",
    "from torch.utils.data import DataLoader,Dataset\n",
    "import torchvision.transforms as transforms"
   ]
  },
  {
   "cell_type": "code",
   "execution_count": 2,
   "metadata": {},
   "outputs": [],
   "source": [
    "import pandas as pd\n",
    "import numpy as np"
   ]
  },
  {
   "cell_type": "code",
   "execution_count": 3,
   "metadata": {},
   "outputs": [
    {
     "data": {
      "text/html": [
       "<div>\n",
       "<style scoped>\n",
       "    .dataframe tbody tr th:only-of-type {\n",
       "        vertical-align: middle;\n",
       "    }\n",
       "\n",
       "    .dataframe tbody tr th {\n",
       "        vertical-align: top;\n",
       "    }\n",
       "\n",
       "    .dataframe thead th {\n",
       "        text-align: right;\n",
       "    }\n",
       "</style>\n",
       "<table border=\"1\" class=\"dataframe\">\n",
       "  <thead>\n",
       "    <tr style=\"text-align: right;\">\n",
       "      <th></th>\n",
       "      <th>Filenames</th>\n",
       "      <th>desert</th>\n",
       "      <th>mountains</th>\n",
       "      <th>sea</th>\n",
       "      <th>sunset</th>\n",
       "      <th>trees</th>\n",
       "    </tr>\n",
       "  </thead>\n",
       "  <tbody>\n",
       "    <tr>\n",
       "      <th>0</th>\n",
       "      <td>1.jpg</td>\n",
       "      <td>1</td>\n",
       "      <td>0</td>\n",
       "      <td>0</td>\n",
       "      <td>0</td>\n",
       "      <td>0</td>\n",
       "    </tr>\n",
       "    <tr>\n",
       "      <th>1</th>\n",
       "      <td>2.jpg</td>\n",
       "      <td>1</td>\n",
       "      <td>0</td>\n",
       "      <td>0</td>\n",
       "      <td>0</td>\n",
       "      <td>0</td>\n",
       "    </tr>\n",
       "  </tbody>\n",
       "</table>\n",
       "</div>"
      ],
      "text/plain": [
       "  Filenames  desert  mountains  sea  sunset  trees\n",
       "0     1.jpg       1          0    0       0      0\n",
       "1     2.jpg       1          0    0       0      0"
      ]
     },
     "execution_count": 3,
     "metadata": {},
     "output_type": "execute_result"
    }
   ],
   "source": [
    "###### Naive reader ########\n",
    "meta=pd.read_csv(\"data/miml_dataset/miml_labels_1.csv\")\n",
    "meta.head(2)"
   ]
  },
  {
   "cell_type": "code",
   "execution_count": 4,
   "metadata": {},
   "outputs": [
    {
     "data": {
      "text/plain": [
       "0.2285"
      ]
     },
     "execution_count": 4,
     "metadata": {},
     "output_type": "execute_result"
    }
   ],
   "source": [
    "(meta.drop('Filenames',axis=1).apply(lambda x:x.sum(),axis=1)>1).sum()/meta.shape[0]"
   ]
  },
  {
   "cell_type": "code",
   "execution_count": 5,
   "metadata": {},
   "outputs": [],
   "source": [
    "import PIL\n",
    "import os\n",
    "from tqdm.notebook import tqdm\n",
    "base_path=\"data/miml_dataset/images\""
   ]
  },
  {
   "cell_type": "code",
   "execution_count": 6,
   "metadata": {},
   "outputs": [
    {
     "data": {
      "application/vnd.jupyter.widget-view+json": {
       "model_id": "0e1e2ceae1164d089b07c4bdf68632c1",
       "version_major": 2,
       "version_minor": 0
      },
      "text/plain": [
       "HBox(children=(IntProgress(value=0, max=2000), HTML(value='')))"
      ]
     },
     "metadata": {},
     "output_type": "display_data"
    },
    {
     "name": "stdout",
     "output_type": "stream",
     "text": [
      "\n"
     ]
    }
   ],
   "source": [
    "#ulimit -n 4096\n",
    "imgs=[PIL.Image.open(os.path.join(base_path,img)) for img in tqdm(meta['Filenames'])]"
   ]
  },
  {
   "cell_type": "code",
   "execution_count": 7,
   "metadata": {},
   "outputs": [],
   "source": [
    "t=transforms.Compose([transforms.Resize((100,100)),\n",
    "                   transforms.ToTensor()])"
   ]
  },
  {
   "cell_type": "code",
   "execution_count": 8,
   "metadata": {},
   "outputs": [
    {
     "data": {
      "text/plain": [
       "torch.Size([3, 100, 100])"
      ]
     },
     "execution_count": 8,
     "metadata": {},
     "output_type": "execute_result"
    }
   ],
   "source": [
    "t(imgs[0]).shape"
   ]
  },
  {
   "cell_type": "code",
   "execution_count": 9,
   "metadata": {},
   "outputs": [],
   "source": [
    "Imgs=list(map(lambda x:t(x),imgs))"
   ]
  },
  {
   "cell_type": "code",
   "execution_count": 10,
   "metadata": {},
   "outputs": [],
   "source": [
    "y=meta.drop(\"Filenames\",axis=1).values"
   ]
  },
  {
   "cell_type": "code",
   "execution_count": 11,
   "metadata": {},
   "outputs": [
    {
     "data": {
      "text/plain": [
       "array([[1, 0, 0, 0, 0],\n",
       "       [1, 0, 0, 0, 0],\n",
       "       [1, 0, 0, 0, 0],\n",
       "       ...,\n",
       "       [0, 0, 0, 0, 1],\n",
       "       [0, 0, 0, 0, 1],\n",
       "       [0, 0, 0, 0, 1]])"
      ]
     },
     "execution_count": 11,
     "metadata": {},
     "output_type": "execute_result"
    }
   ],
   "source": [
    "y"
   ]
  },
  {
   "cell_type": "code",
   "execution_count": 12,
   "metadata": {},
   "outputs": [],
   "source": [
    "class Data(Dataset):\n",
    "    def __init__(self,imgs,y):\n",
    "        self.imgs=imgs\n",
    "        self.y=y\n",
    "    def __len__(self):\n",
    "        return len(self.imgs)\n",
    "    def __getitem__(self,idx):\n",
    "        x=self.imgs[idx]\n",
    "        y=self.y[idx,]\n",
    "        batch={'X':x,'y':y}\n",
    "        return batch"
   ]
  },
  {
   "cell_type": "code",
   "execution_count": 13,
   "metadata": {},
   "outputs": [],
   "source": [
    "data=Data(Imgs,y)"
   ]
  },
  {
   "cell_type": "code",
   "execution_count": 14,
   "metadata": {},
   "outputs": [
    {
     "data": {
      "text/plain": [
       "torch.Size([3, 100, 100])"
      ]
     },
     "execution_count": 14,
     "metadata": {},
     "output_type": "execute_result"
    }
   ],
   "source": [
    "next(iter(data))['X'].shape"
   ]
  },
  {
   "cell_type": "code",
   "execution_count": 15,
   "metadata": {},
   "outputs": [],
   "source": [
    "d=DataLoader(data,batch_size=100,shuffle=True)"
   ]
  },
  {
   "cell_type": "code",
   "execution_count": 16,
   "metadata": {},
   "outputs": [
    {
     "data": {
      "text/plain": [
       "torch.Size([100, 3, 100, 100])"
      ]
     },
     "execution_count": 16,
     "metadata": {},
     "output_type": "execute_result"
    }
   ],
   "source": [
    "next(iter(d))['X'].shape"
   ]
  },
  {
   "cell_type": "code",
   "execution_count": 17,
   "metadata": {},
   "outputs": [],
   "source": [
    "class MultiLabel(nn.Module):\n",
    "    def __init__(self):\n",
    "        super().__init__()\n",
    "        self.features=nn.Sequential(\n",
    "                            nn.Conv2d(in_channels=3,\n",
    "                            out_channels=32,\n",
    "                            kernel_size=3,\n",
    "                            padding=1,\n",
    "                            stride=1),\n",
    "                            \n",
    "                            nn.ReLU(), \n",
    "                                    \n",
    "                            nn.Conv2d(in_channels=32,\n",
    "                            out_channels=32,\n",
    "                            kernel_size=3,\n",
    "                            padding=1,\n",
    "                            stride=1),\n",
    "                                    \n",
    "                            nn.ReLU(),\n",
    "                                    \n",
    "                            nn.MaxPool2d(kernel_size=2,\n",
    "                              stride=2,\n",
    "                              padding=0),\n",
    "                            \n",
    "                            nn.Dropout(0.25),\n",
    "                            nn.Conv2d(in_channels=32,\n",
    "                            out_channels=64,\n",
    "                            kernel_size=3,\n",
    "                            padding=1,\n",
    "                            stride=1),\n",
    "                            \n",
    "                           nn.ReLU(),\n",
    "                            \n",
    "                           nn.Conv2d(in_channels=64,\n",
    "                           out_channels=64,\n",
    "                           kernel_size=3,\n",
    "                           padding=0,\n",
    "                           stride=1),\n",
    "                           \n",
    "                           nn.MaxPool2d(kernel_size=3,\n",
    "                              stride=2,\n",
    "                              padding=0),\n",
    "                           nn.Dropout(0.25))\n",
    "        self.classifier=nn.Sequential(nn.Linear(self._flatten_dim(),512),\n",
    "                                     nn.ReLU(),\n",
    "                                     nn.Dropout(0.5),\n",
    "                                     nn.Linear(512,5),\n",
    "                                     nn.Sigmoid())\n",
    "\n",
    "   \n",
    "\n",
    "    def _flatten_dim(self):\n",
    "        x=torch.randn(1,3,100,100)\n",
    "        x=self.features(x)\n",
    "        c=x.shape[1]\n",
    "        h=x.shape[2]\n",
    "        w=x.shape[3]\n",
    "        return c*h*w\n",
    "    \n",
    "    def forward(self,X):\n",
    "        X=self.features(X)\n",
    "        X=X.view(X.shape[0],-1)\n",
    "        X=self.classifier(X)\n",
    "        return X"
   ]
  },
  {
   "cell_type": "code",
   "execution_count": 18,
   "metadata": {},
   "outputs": [],
   "source": [
    "m=MultiLabel()"
   ]
  },
  {
   "cell_type": "code",
   "execution_count": 19,
   "metadata": {},
   "outputs": [
    {
     "data": {
      "text/plain": [
       "torch.Size([100, 5])"
      ]
     },
     "execution_count": 19,
     "metadata": {},
     "output_type": "execute_result"
    }
   ],
   "source": [
    "m(next(iter(d))['X']).shape"
   ]
  },
  {
   "cell_type": "code",
   "execution_count": 20,
   "metadata": {},
   "outputs": [],
   "source": [
    "from torch import optim"
   ]
  },
  {
   "cell_type": "code",
   "execution_count": 21,
   "metadata": {},
   "outputs": [],
   "source": [
    "opt=optim.Adam(m.parameters())"
   ]
  },
  {
   "cell_type": "code",
   "execution_count": 22,
   "metadata": {},
   "outputs": [
    {
     "data": {
      "application/vnd.jupyter.widget-view+json": {
       "model_id": "f7eb70e869f045b6af0dcff3d75b3d04",
       "version_major": 2,
       "version_minor": 0
      },
      "text/plain": [
       "HBox(children=(IntProgress(value=0, max=10), HTML(value='')))"
      ]
     },
     "metadata": {},
     "output_type": "display_data"
    },
    {
     "name": "stdout",
     "output_type": "stream",
     "text": [
      "epoch: 1, iter: 1, loss 0.7\n",
      "epoch: 1, iter: 2, loss 0.79\n",
      "epoch: 1, iter: 3, loss 0.58\n",
      "epoch: 1, iter: 4, loss 0.6\n",
      "epoch: 1, iter: 5, loss 0.55\n",
      "epoch: 1, iter: 6, loss 0.56\n",
      "epoch: 1, iter: 7, loss 0.58\n",
      "epoch: 1, iter: 8, loss 0.56\n",
      "epoch: 1, iter: 9, loss 0.56\n",
      "epoch: 1, iter: 10, loss 0.54\n",
      "epoch: 1, iter: 11, loss 0.55\n",
      "epoch: 1, iter: 12, loss 0.55\n",
      "epoch: 1, iter: 13, loss 0.54\n",
      "epoch: 1, iter: 14, loss 0.52\n",
      "epoch: 1, iter: 15, loss 0.52\n",
      "epoch: 1, iter: 16, loss 0.5\n",
      "epoch: 1, iter: 17, loss 0.48\n",
      "epoch: 1, iter: 18, loss 0.52\n",
      "epoch: 1, iter: 19, loss 0.5\n",
      "epoch: 1, iter: 20, loss 0.48\n",
      "epoch: 2, iter: 1, loss 0.55\n",
      "epoch: 2, iter: 2, loss 0.46\n",
      "epoch: 2, iter: 3, loss 0.48\n",
      "epoch: 2, iter: 4, loss 0.47\n",
      "epoch: 2, iter: 5, loss 0.45\n",
      "epoch: 2, iter: 6, loss 0.47\n",
      "epoch: 2, iter: 7, loss 0.43\n",
      "epoch: 2, iter: 8, loss 0.42\n",
      "epoch: 2, iter: 9, loss 0.43\n",
      "epoch: 2, iter: 10, loss 0.46\n",
      "epoch: 2, iter: 11, loss 0.43\n",
      "epoch: 2, iter: 12, loss 0.43\n",
      "epoch: 2, iter: 13, loss 0.39\n",
      "epoch: 2, iter: 14, loss 0.38\n",
      "epoch: 2, iter: 15, loss 0.46\n",
      "epoch: 2, iter: 16, loss 0.43\n",
      "epoch: 2, iter: 17, loss 0.43\n",
      "epoch: 2, iter: 18, loss 0.43\n",
      "epoch: 2, iter: 19, loss 0.41\n",
      "epoch: 2, iter: 20, loss 0.41\n",
      "epoch: 3, iter: 1, loss 0.43\n",
      "epoch: 3, iter: 2, loss 0.39\n",
      "epoch: 3, iter: 3, loss 0.42\n",
      "epoch: 3, iter: 4, loss 0.39\n",
      "epoch: 3, iter: 5, loss 0.45\n",
      "epoch: 3, iter: 6, loss 0.43\n",
      "epoch: 3, iter: 7, loss 0.4\n",
      "epoch: 3, iter: 8, loss 0.42\n",
      "epoch: 3, iter: 9, loss 0.42\n",
      "epoch: 3, iter: 10, loss 0.41\n",
      "epoch: 3, iter: 11, loss 0.43\n",
      "epoch: 3, iter: 12, loss 0.43\n",
      "epoch: 3, iter: 13, loss 0.4\n",
      "epoch: 3, iter: 14, loss 0.41\n",
      "epoch: 3, iter: 15, loss 0.42\n",
      "epoch: 3, iter: 16, loss 0.38\n",
      "epoch: 3, iter: 17, loss 0.4\n",
      "epoch: 3, iter: 18, loss 0.44\n",
      "epoch: 3, iter: 19, loss 0.47\n",
      "epoch: 3, iter: 20, loss 0.43\n",
      "epoch: 4, iter: 1, loss 0.44\n",
      "epoch: 4, iter: 2, loss 0.42\n",
      "epoch: 4, iter: 3, loss 0.38\n",
      "epoch: 4, iter: 4, loss 0.38\n",
      "epoch: 4, iter: 5, loss 0.38\n",
      "epoch: 4, iter: 6, loss 0.36\n",
      "epoch: 4, iter: 7, loss 0.4\n",
      "epoch: 4, iter: 8, loss 0.36\n",
      "epoch: 4, iter: 9, loss 0.42\n",
      "epoch: 4, iter: 10, loss 0.38\n",
      "epoch: 4, iter: 11, loss 0.36\n",
      "epoch: 4, iter: 12, loss 0.39\n",
      "epoch: 4, iter: 13, loss 0.39\n",
      "epoch: 4, iter: 14, loss 0.36\n",
      "epoch: 4, iter: 15, loss 0.39\n",
      "epoch: 4, iter: 16, loss 0.41\n",
      "epoch: 4, iter: 17, loss 0.34\n",
      "epoch: 4, iter: 18, loss 0.41\n",
      "epoch: 4, iter: 19, loss 0.35\n",
      "epoch: 4, iter: 20, loss 0.38\n",
      "epoch: 5, iter: 1, loss 0.38\n",
      "epoch: 5, iter: 2, loss 0.37\n",
      "epoch: 5, iter: 3, loss 0.38\n",
      "epoch: 5, iter: 4, loss 0.37\n",
      "epoch: 5, iter: 5, loss 0.38\n",
      "epoch: 5, iter: 6, loss 0.32\n",
      "epoch: 5, iter: 7, loss 0.42\n",
      "epoch: 5, iter: 8, loss 0.36\n",
      "epoch: 5, iter: 9, loss 0.36\n",
      "epoch: 5, iter: 10, loss 0.39\n",
      "epoch: 5, iter: 11, loss 0.35\n",
      "epoch: 5, iter: 12, loss 0.4\n",
      "epoch: 5, iter: 13, loss 0.36\n",
      "epoch: 5, iter: 14, loss 0.34\n",
      "epoch: 5, iter: 15, loss 0.37\n",
      "epoch: 5, iter: 16, loss 0.33\n",
      "epoch: 5, iter: 17, loss 0.35\n",
      "epoch: 5, iter: 18, loss 0.34\n",
      "epoch: 5, iter: 19, loss 0.32\n",
      "epoch: 5, iter: 20, loss 0.31\n",
      "epoch: 6, iter: 1, loss 0.36\n",
      "epoch: 6, iter: 2, loss 0.35\n",
      "epoch: 6, iter: 3, loss 0.34\n",
      "epoch: 6, iter: 4, loss 0.35\n",
      "epoch: 6, iter: 5, loss 0.44\n",
      "epoch: 6, iter: 6, loss 0.35\n",
      "epoch: 6, iter: 7, loss 0.33\n",
      "epoch: 6, iter: 8, loss 0.33\n",
      "epoch: 6, iter: 9, loss 0.39\n",
      "epoch: 6, iter: 10, loss 0.33\n",
      "epoch: 6, iter: 11, loss 0.36\n",
      "epoch: 6, iter: 12, loss 0.38\n",
      "epoch: 6, iter: 13, loss 0.31\n",
      "epoch: 6, iter: 14, loss 0.35\n",
      "epoch: 6, iter: 15, loss 0.32\n",
      "epoch: 6, iter: 16, loss 0.35\n",
      "epoch: 6, iter: 17, loss 0.31\n",
      "epoch: 6, iter: 18, loss 0.29\n",
      "epoch: 6, iter: 19, loss 0.39\n",
      "epoch: 6, iter: 20, loss 0.33\n",
      "epoch: 7, iter: 1, loss 0.33\n",
      "epoch: 7, iter: 2, loss 0.36\n",
      "epoch: 7, iter: 3, loss 0.33\n",
      "epoch: 7, iter: 4, loss 0.33\n",
      "epoch: 7, iter: 5, loss 0.32\n",
      "epoch: 7, iter: 6, loss 0.29\n",
      "epoch: 7, iter: 7, loss 0.33\n",
      "epoch: 7, iter: 8, loss 0.35\n",
      "epoch: 7, iter: 9, loss 0.36\n",
      "epoch: 7, iter: 10, loss 0.36\n",
      "epoch: 7, iter: 11, loss 0.32\n",
      "epoch: 7, iter: 12, loss 0.35\n",
      "epoch: 7, iter: 13, loss 0.34\n",
      "epoch: 7, iter: 14, loss 0.31\n",
      "epoch: 7, iter: 15, loss 0.34\n",
      "epoch: 7, iter: 16, loss 0.34\n",
      "epoch: 7, iter: 17, loss 0.34\n",
      "epoch: 7, iter: 18, loss 0.32\n",
      "epoch: 7, iter: 19, loss 0.3\n",
      "epoch: 7, iter: 20, loss 0.31\n",
      "epoch: 8, iter: 1, loss 0.32\n",
      "epoch: 8, iter: 2, loss 0.29\n",
      "epoch: 8, iter: 3, loss 0.31\n",
      "epoch: 8, iter: 4, loss 0.31\n",
      "epoch: 8, iter: 5, loss 0.32\n",
      "epoch: 8, iter: 6, loss 0.29\n",
      "epoch: 8, iter: 7, loss 0.32\n",
      "epoch: 8, iter: 8, loss 0.32\n",
      "epoch: 8, iter: 9, loss 0.29\n",
      "epoch: 8, iter: 10, loss 0.32\n",
      "epoch: 8, iter: 11, loss 0.31\n",
      "epoch: 8, iter: 12, loss 0.28\n",
      "epoch: 8, iter: 13, loss 0.32\n",
      "epoch: 8, iter: 14, loss 0.31\n",
      "epoch: 8, iter: 15, loss 0.31\n",
      "epoch: 8, iter: 16, loss 0.29\n",
      "epoch: 8, iter: 17, loss 0.34\n",
      "epoch: 8, iter: 18, loss 0.31\n",
      "epoch: 8, iter: 19, loss 0.28\n",
      "epoch: 8, iter: 20, loss 0.26\n",
      "epoch: 9, iter: 1, loss 0.28\n",
      "epoch: 9, iter: 2, loss 0.31\n",
      "epoch: 9, iter: 3, loss 0.31\n",
      "epoch: 9, iter: 4, loss 0.22\n",
      "epoch: 9, iter: 5, loss 0.35\n",
      "epoch: 9, iter: 6, loss 0.3\n",
      "epoch: 9, iter: 7, loss 0.25\n",
      "epoch: 9, iter: 8, loss 0.31\n",
      "epoch: 9, iter: 9, loss 0.26\n",
      "epoch: 9, iter: 10, loss 0.3\n",
      "epoch: 9, iter: 11, loss 0.32\n",
      "epoch: 9, iter: 12, loss 0.28\n",
      "epoch: 9, iter: 13, loss 0.3\n",
      "epoch: 9, iter: 14, loss 0.27\n",
      "epoch: 9, iter: 15, loss 0.28\n",
      "epoch: 9, iter: 16, loss 0.28\n",
      "epoch: 9, iter: 17, loss 0.32\n",
      "epoch: 9, iter: 18, loss 0.32\n",
      "epoch: 9, iter: 19, loss 0.32\n",
      "epoch: 9, iter: 20, loss 0.32\n",
      "epoch: 10, iter: 1, loss 0.29\n",
      "epoch: 10, iter: 2, loss 0.29\n",
      "epoch: 10, iter: 3, loss 0.3\n",
      "epoch: 10, iter: 4, loss 0.33\n",
      "epoch: 10, iter: 5, loss 0.29\n",
      "epoch: 10, iter: 6, loss 0.3\n",
      "epoch: 10, iter: 7, loss 0.26\n",
      "epoch: 10, iter: 8, loss 0.27\n",
      "epoch: 10, iter: 9, loss 0.31\n",
      "epoch: 10, iter: 10, loss 0.27\n",
      "epoch: 10, iter: 11, loss 0.3\n",
      "epoch: 10, iter: 12, loss 0.27\n",
      "epoch: 10, iter: 13, loss 0.24\n",
      "epoch: 10, iter: 14, loss 0.31\n",
      "epoch: 10, iter: 15, loss 0.27\n",
      "epoch: 10, iter: 16, loss 0.3\n",
      "epoch: 10, iter: 17, loss 0.31\n",
      "epoch: 10, iter: 18, loss 0.28\n",
      "epoch: 10, iter: 19, loss 0.29\n",
      "epoch: 10, iter: 20, loss 0.3\n",
      "\n"
     ]
    }
   ],
   "source": [
    "num_epochs=10\n",
    "Loss=[]\n",
    "for i in tqdm(list(range(num_epochs))):\n",
    "    for j,batch in enumerate(d):\n",
    "        X=batch['X'].float()\n",
    "        y=batch['y'].float()\n",
    "        preds=m(X)\n",
    "        loss=nn.BCELoss()(preds,y)\n",
    "        Loss.append(loss.item())\n",
    "        loss.backward()\n",
    "        opt.step()\n",
    "        opt.zero_grad()\n",
    "        print(f\"epoch: {i+1}, iter: {j+1}, loss {round(loss.item(),2)}\")"
   ]
  },
  {
   "cell_type": "code",
   "execution_count": 23,
   "metadata": {},
   "outputs": [],
   "source": [
    "import matplotlib.pyplot as plt\n",
    "%matplotlib inline"
   ]
  },
  {
   "cell_type": "code",
   "execution_count": 24,
   "metadata": {},
   "outputs": [
    {
     "data": {
      "text/plain": [
       "[<matplotlib.lines.Line2D at 0x15b8085d0>]"
      ]
     },
     "execution_count": 24,
     "metadata": {},
     "output_type": "execute_result"
    },
    {
     "data": {
      "image/png": "[encoded data removed]",
      "text/plain": [
       "<Figure size 432x288 with 1 Axes>"
      ]
     },
     "metadata": {
      "needs_background": "light"
     },
     "output_type": "display_data"
    }
   ],
   "source": [
    "plt.plot(range(len(Loss)),Loss)"
   ]
  },
  {
   "cell_type": "code",
   "execution_count": 25,
   "metadata": {},
   "outputs": [],
   "source": [
    "### torch.save(m.state_dict(),\"data/multilabel.pth\") save for later use, training takes a long time"
   ]
  },
  {
   "cell_type": "code",
   "execution_count": 44,
   "metadata": {},
   "outputs": [
    {
     "data": {
      "application/vnd.jupyter.widget-view+json": {
       "model_id": "baf8ead1dd6b4c2d91c9c5927b7c117e",
       "version_major": 2,
       "version_minor": 0
      },
      "text/plain": [
       "HBox(children=(IntProgress(value=0, max=2000), HTML(value='')))"
      ]
     },
     "metadata": {},
     "output_type": "display_data"
    },
    {
     "name": "stdout",
     "output_type": "stream",
     "text": [
      "\n"
     ]
    }
   ],
   "source": [
    "D=DataLoader(data,batch_size=1)\n",
    "preds=[]\n",
    "acts=[]\n",
    "for batch in tqdm(D):\n",
    "    X=batch['X'].float()\n",
    "    y=batch['y'].float()\n",
    "    m.eval()\n",
    "    with torch.no_grad():\n",
    "        preds.append(m(X))\n",
    "        acts.append(y)"
   ]
  },
  {
   "cell_type": "code",
   "execution_count": 45,
   "metadata": {},
   "outputs": [
    {
     "data": {
      "text/plain": [
       "tensor([[1, 0, 0, 0, 0]], dtype=torch.int32)"
      ]
     },
     "execution_count": 45,
     "metadata": {},
     "output_type": "execute_result"
    }
   ],
   "source": [
    "(preds[0]>0.5).int()"
   ]
  },
  {
   "cell_type": "code",
   "execution_count": 46,
   "metadata": {},
   "outputs": [],
   "source": [
    "p=list(map(lambda x: (x>0.5).int().squeeze(0),preds))"
   ]
  },
  {
   "cell_type": "code",
   "execution_count": 47,
   "metadata": {},
   "outputs": [],
   "source": [
    "p=list(map(lambda x:x.numpy(),p))"
   ]
  },
  {
   "cell_type": "code",
   "execution_count": 48,
   "metadata": {},
   "outputs": [],
   "source": [
    "acts=list(map(lambda x:x.squeeze(0).numpy(),acts))"
   ]
  },
  {
   "cell_type": "code",
   "execution_count": 49,
   "metadata": {},
   "outputs": [],
   "source": [
    "from sklearn.metrics import multilabel_confusion_matrix"
   ]
  },
  {
   "cell_type": "code",
   "execution_count": 52,
   "metadata": {},
   "outputs": [
    {
     "data": {
      "text/plain": [
       "array([[[1521,   70],\n",
       "        [  93,  316]],\n",
       "\n",
       "       [[1471,   71],\n",
       "        [ 155,  303]],\n",
       "\n",
       "       [[1242,  178],\n",
       "        [ 206,  374]],\n",
       "\n",
       "       [[1504,   31],\n",
       "        [  52,  413]],\n",
       "\n",
       "       [[1349,   91],\n",
       "        [ 137,  423]]])"
      ]
     },
     "execution_count": 52,
     "metadata": {},
     "output_type": "execute_result"
    }
   ],
   "source": [
    "multilabel_confusion_matrix(np.array(acts),np.array(p))"
   ]
  },
  {
   "cell_type": "code",
   "execution_count": 64,
   "metadata": {},
   "outputs": [],
   "source": [
    "from sklearn.metrics import hamming_loss"
   ]
  },
  {
   "cell_type": "code",
   "execution_count": 65,
   "metadata": {},
   "outputs": [
    {
     "data": {
      "text/plain": [
       "0.1084"
      ]
     },
     "execution_count": 65,
     "metadata": {},
     "output_type": "execute_result"
    }
   ],
   "source": [
    "hamming_loss(np.array(acts),np.array(p)) ###The Hamming loss is the fraction of labels that are incorrectly predicted."
   ]
  },
  {
   "cell_type": "code",
   "execution_count": 66,
   "metadata": {},
   "outputs": [],
   "source": [
    "scores=list(map(lambda x:x.squeeze(0).numpy(),preds))"
   ]
  },
  {
   "cell_type": "code",
   "execution_count": 67,
   "metadata": {},
   "outputs": [],
   "source": [
    "from sklearn.metrics import coverage_error"
   ]
  },
  {
   "cell_type": "code",
   "execution_count": 68,
   "metadata": {},
   "outputs": [
    {
     "data": {
      "text/plain": [
       "1.5455"
      ]
     },
     "execution_count": 68,
     "metadata": {},
     "output_type": "execute_result"
    }
   ],
   "source": [
    "coverage_error(np.array(acts),np.array(scores))"
   ]
  },
  {
   "cell_type": "code",
   "execution_count": 69,
   "metadata": {},
   "outputs": [],
   "source": [
    "from sklearn.metrics import label_ranking_average_precision_score"
   ]
  },
  {
   "cell_type": "code",
   "execution_count": 70,
   "metadata": {},
   "outputs": [
    {
     "data": {
      "text/plain": [
       "0.8989361111111109"
      ]
     },
     "execution_count": 70,
     "metadata": {},
     "output_type": "execute_result"
    }
   ],
   "source": [
    "label_ranking_average_precision_score(np.array(acts),np.array(scores))\n",
    "## For each ground truth label, what fraction of higher-ranked labels were true labels?"
   ]
  },
  {
   "cell_type": "code",
   "execution_count": 71,
   "metadata": {},
   "outputs": [
    {
     "data": {
      "text/plain": [
       "0.07379166666666666"
      ]
     },
     "execution_count": 71,
     "metadata": {},
     "output_type": "execute_result"
    }
   ],
   "source": [
    "from sklearn.metrics import label_ranking_loss\n",
    "label_ranking_loss(np.array(acts),np.array(scores))\n",
    "## function computes the ranking loss which averages over the samples the number of label pairs that are \n",
    "## incorrectly ordered, i.e. true labels have a lower score than false labels, weighted by the inverse of the \n",
    "## number of ordered pairs of false and true labels. The lowest achievable ranking loss is zero."
   ]
  },
  {
   "cell_type": "code",
   "execution_count": 77,
   "metadata": {},
   "outputs": [],
   "source": [
    "import pickle"
   ]
  },
  {
   "cell_type": "code",
   "execution_count": 78,
   "metadata": {},
   "outputs": [],
   "source": [
    "###with open(\"data/multilabel_losses.pkl\",\"wb\") as f:\n",
    "###    pickle.dump(Loss,f) "
   ]
  },
  {
   "cell_type": "code",
   "execution_count": null,
   "metadata": {},
   "outputs": [],
   "source": []
  }
 ],
 "metadata": {
  "kernelspec": {
   "display_name": "Python 3",
   "language": "python",
   "name": "python3"
  },
  "language_info": {
   "codemirror_mode": {
    "name": "ipython",
    "version": 3
   },
   "file_extension": ".py",
   "mimetype": "text/x-python",
   "name": "python",
   "nbconvert_exporter": "python",
   "pygments_lexer": "ipython3",
   "version": "3.7.5"
  }
 },
 "nbformat": 4,
 "nbformat_minor": 2
}
